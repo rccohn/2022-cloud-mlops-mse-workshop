{
 "cells": [
  {
   "cell_type": "code",
   "execution_count": null,
   "id": "b7f5b01b-f50e-4cc2-9b28-66c770b3471e",
   "metadata": {},
   "outputs": [],
   "source": [
    "# only need to run this the first time you run the notebook!\n",
    "!jupyter labextension install jupyterlab-plotly"
   ]
  },
  {
   "cell_type": "code",
   "execution_count": null,
   "id": "fbd4ecce-0845-45f5-9140-3174fd648a4e",
   "metadata": {},
   "outputs": [],
   "source": [
    "from data import load_data\n",
    "import numpy as np\n",
    "import plotly.express as px\n",
    "import plotly.io as pio\n",
    "from pathlib import Path\n",
    "import mlflow\n",
    "import os\n",
    "import pandas as pd\n",
    "pio.renderers.default = \"jupyterlab\"\n"
   ]
  },
  {
   "cell_type": "code",
   "execution_count": null,
   "id": "942ebab5-4032-4040-b321-0efb6e4b645e",
   "metadata": {},
   "outputs": [],
   "source": [
    "mlflow.set_tag('objective','dataset exploration')\n",
    "data_seed = 81\n",
    "data = load_data(seed=data_seed)\n",
    "mlflow.log_param('random_seed_dataset', data_seed)"
   ]
  },
  {
   "cell_type": "code",
   "execution_count": null,
   "id": "d0a71e81-7fd2-4276-b70d-a83d1d70372b",
   "metadata": {},
   "outputs": [],
   "source": [
    "from sklearn.manifold import TSNE\n",
    "tsne_params = {'random_state': 25, 'perplexity': 150}\n",
    "tsne = TSNE(init='random', \n",
    "              learning_rate='auto', \n",
    "              **tsne_params)\n",
    "x_tsne = tsne.fit_transform(data.X_all)\n",
    "mlflow.log_params(tsne_params)\n",
    "mlflow.log_metric('kl_divergence', tsne.kl_divergence_)"
   ]
  },
  {
   "cell_type": "code",
   "execution_count": null,
   "id": "7c246a01-6ad9-4659-b005-628c5502c434",
   "metadata": {},
   "outputs": [],
   "source": [
    "plot_df = pd.DataFrame({'x': x_tsne[:,0], 'y': x_tsne[:,1], 'category': [str(x) for x in data.y_all]})\n",
    "fig = px.scatter(plot_df, x='x', y='y',\n",
    "                color='category', # string gives better colors,\n",
    "                category_orders={'category': sorted(plot_df['category'].unique())},\n",
    "                title='t-SNE projection')\n",
    "fig.update_traces(marker_size=10)\n",
    "fig.show()\n",
    "# In the general case, we can use mlflow.log_artifact() to log any file\n",
    "# However, mlflow provides convenience functions log_dict(), log_figure(), \n",
    "# log_image(), and log_text(), which allow logging python objects as artifacts\n",
    "# directly, instead of needing to first save them to disk and calling log_artifact().\n",
    "mlflow.log_figure(fig, 't-sne.html')\n",
    "# make sure \n",
    "mlflow.end_run()"
   ]
  },
  {
   "cell_type": "code",
   "execution_count": null,
   "id": "1fdaebe1-9b3c-4f17-999a-29df69953b9e",
   "metadata": {},
   "outputs": [],
   "source": [
    "from sklearn.ensemble import RandomForestClassifier\n",
    "from sklearn.metrics import accuracy_score\n",
    "\n",
    "with mlflow.start_run(run_name='random-forest'):\n",
    "    mlflow.set_tag('objective', 'classification')\n",
    "    n_est = [1, 3, 5, 7] # number of estimators during parameter sweep\n",
    "    \n",
    "    # metrics to keep track of\n",
    "    train_accs = []\n",
    "    val_accs = []\n",
    "    best_val_acc = -1.0\n",
    "    best_train_acc = -1.0\n",
    "    best_model = None\n",
    "    best_n_est = 0\n",
    "    \n",
    "    # parameter sweep\n",
    "    for n in n_est:\n",
    "        # initialize and train model\n",
    "        model = RandomForestClassifier(n, random_state=22) # SVC(kernel='rbf')\n",
    "        model.fit(data.X_train, data.y_train)\n",
    "        \n",
    "        # evaluate performance\n",
    "        yp_train = model.predict(data.X_train)\n",
    "        yp_val = model.predict(data.X_val)\n",
    "        train_acc = accuracy_score(data.y_train, yp_train)\n",
    "        val_acc = accuracy_score(data.y_val, yp_val)\n",
    "        \n",
    "        # record training and validation accuracy scores\n",
    "        train_accs.append(train_acc)\n",
    "        val_accs.append(val_acc)\n",
    "        \n",
    "        # keep track of best performing model\n",
    "        if val_acc > best_val_acc:\n",
    "            best_model = model\n",
    "            best_val_acc = val_acc\n",
    "            best_train_acc = train_acc\n",
    "            best_n_est = n\n",
    "    \n",
    "    # evaluate best performing model on test set\n",
    "    yp_test = model.predict(data.X_test)\n",
    "    test_acc = accuracy_score(data.y_test, yp_test)\n",
    "    \n",
    "    # log parameters and model\n",
    "    mlflow.log_param('n_estimators', best_n_est)\n",
    "    mlflow.log_metrics({'train_acc': best_train_acc,\n",
    "                       'val_acc': best_val_acc,\n",
    "                       'test_acc': test_acc})\n",
    "    mlflow.sklearn.log_model(model, 'estimator')\n",
    "    \n",
    "    # save plot of training and validation accuracy scores for parameter sweep\n",
    "    df_plot = pd.DataFrame({'n_estimators': [*n_est, *n_est], 'accuracy': [*train_accs, *val_accs], \n",
    "                       'dataset': [*['train' for _ in n_est], *['val' for _ in n_est]]})\n",
    "    fig = px.bar(df_plot, x='n_estimators', y='accuracy', color='dataset', barmode='group')\n",
    "    mlflow.log_figure(fig, 'acc_vs_n.html')\n",
    "    fig.show()"
   ]
  },
  {
   "cell_type": "markdown",
   "id": "c86e37ed-d246-417c-bd9c-6a0612163d1a",
   "metadata": {},
   "source": [
    "# Activity\n",
    "Try changing the hyperparameters or using another model for the classification.\n",
    "A good model to try next would be scikit learn's SVM classifier (sklearn.svm.SVC), and adjusting the SVM\n",
    "regularization C parameter. This can be done by replacing the RandomForestClassifier with the SVM,\n",
    "and varying C between values of 0.1 and 10 (instead of changing the number of trees in the forest)."
   ]
  },
  {
   "cell_type": "code",
   "execution_count": null,
   "id": "ad5b1935-7a78-434d-aee3-44cd8801d2ee",
   "metadata": {},
   "outputs": [],
   "source": [
    "mlflow.search_runs([mlflow.get_experiment_by_name('Default').experiment_id,], filter_string='tags.objective=\"classification\"')"
   ]
  }
 ],
 "metadata": {
  "kernelspec": {
   "display_name": "Python 3 (ipykernel)",
   "language": "python",
   "name": "python3"
  },
  "language_info": {
   "codemirror_mode": {
    "name": "ipython",
    "version": 3
   },
   "file_extension": ".py",
   "mimetype": "text/x-python",
   "name": "python",
   "nbconvert_exporter": "python",
   "pygments_lexer": "ipython3",
   "version": "3.9.7"
  }
 },
 "nbformat": 4,
 "nbformat_minor": 5
}
