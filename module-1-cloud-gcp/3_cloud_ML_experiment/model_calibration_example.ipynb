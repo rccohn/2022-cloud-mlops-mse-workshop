{
 "cells": [
  {
   "cell_type": "markdown",
   "id": "6b1e6d04-68d0-4266-836e-2de2795953fc",
   "metadata": {},
   "source": [
    "# Example experiment: Model calibration\n",
    "Adapted from [scikit-learn example](https://scikit-learn.org/stable/auto_examples/calibration/plot_compare_calibration.html#sphx-glr-auto-examples-calibration-plot-compare-calibration-py)"
   ]
  },
  {
   "cell_type": "markdown",
   "id": "975078ee-82c1-4a2f-9b91-256a96fbe338",
   "metadata": {},
   "source": [
    "# 1) Generate synthetic dataset"
   ]
  },
  {
   "cell_type": "code",
   "execution_count": null,
   "id": "053216b0-b085-4f0f-be90-77a1430c74c8",
   "metadata": {},
   "outputs": [],
   "source": [
    "from sklearn.datasets import make_classification\n",
    "from sklearn.model_selection import train_test_split\n",
    "\n",
    "X, y = make_classification(\n",
    "    n_samples=100_000, n_features=20, n_informative=2, n_redundant=2, random_state=42\n",
    ")\n",
    "\n",
    "train_samples = 100  # Samples used for training the models\n",
    "X_train, X_test, y_train, y_test = train_test_split(\n",
    "    X,\n",
    "    y,\n",
    "    shuffle=False,\n",
    "    test_size=100_000 - train_samples,\n",
    ")"
   ]
  },
  {
   "cell_type": "markdown",
   "id": "d03cd1ae-97a2-48d0-8056-671edd369402",
   "metadata": {},
   "source": [
    "# 2) Initialize models"
   ]
  },
  {
   "cell_type": "code",
   "execution_count": null,
   "id": "6e0aabfc-465a-4b6d-b093-d57f8e2548f3",
   "metadata": {},
   "outputs": [],
   "source": [
    "import numpy as np\n",
    "\n",
    "from sklearn.svm import LinearSVC\n",
    "\n",
    "\n",
    "class NaivelyCalibratedLinearSVC(LinearSVC):\n",
    "    \"\"\"LinearSVC with `predict_proba` method that naively scales\n",
    "    `decision_function` output.\"\"\"\n",
    "\n",
    "    def fit(self, X, y):\n",
    "        super().fit(X, y)\n",
    "        df = self.decision_function(X)\n",
    "        self.df_min_ = df.min()\n",
    "        self.df_max_ = df.max()\n",
    "\n",
    "    def predict_proba(self, X):\n",
    "        \"\"\"Min-max scale output of `decision_function` to [0,1].\"\"\"\n",
    "        df = self.decision_function(X)\n",
    "        calibrated_df = (df - self.df_min_) / (self.df_max_ - self.df_min_)\n",
    "        proba_pos_class = np.clip(calibrated_df, 0, 1)\n",
    "        proba_neg_class = 1 - proba_pos_class\n",
    "        proba = np.c_[proba_neg_class, proba_pos_class]\n",
    "        return proba"
   ]
  },
  {
   "cell_type": "code",
   "execution_count": null,
   "id": "639ad6d3-653e-4ce6-afa0-4014720c4f19",
   "metadata": {},
   "outputs": [],
   "source": [
    "from sklearn.calibration import CalibrationDisplay\n",
    "from sklearn.ensemble import RandomForestClassifier\n",
    "from sklearn.linear_model import LogisticRegression\n",
    "from sklearn.naive_bayes import GaussianNB\n",
    "\n",
    "# Create classifiers\n",
    "lr = LogisticRegression()\n",
    "gnb = GaussianNB()\n",
    "svc = NaivelyCalibratedLinearSVC(C=1.0)\n",
    "rfc = RandomForestClassifier()\n",
    "\n",
    "clf_list = [\n",
    "    (lr, \"Logistic\"),\n",
    "    (gnb, \"Naive Bayes\"),\n",
    "    (svc, \"SVC\"),\n",
    "    (rfc, \"Random forest\"),\n",
    "]"
   ]
  },
  {
   "cell_type": "markdown",
   "id": "86da4a78-8081-4e7a-85e4-6e7753c07d5c",
   "metadata": {},
   "source": [
    "# 3) Train models and generate calibration plots"
   ]
  },
  {
   "cell_type": "code",
   "execution_count": null,
   "id": "81f498c7-bf85-4914-b782-372d5653bca5",
   "metadata": {},
   "outputs": [],
   "source": [
    "import matplotlib.pyplot as plt\n",
    "from matplotlib.gridspec import GridSpec\n",
    "\n",
    "fig = plt.figure(figsize=(10, 10))\n",
    "gs = GridSpec(4, 2)\n",
    "colors = plt.cm.get_cmap(\"Dark2\")\n",
    "\n",
    "ax_calibration_curve = fig.add_subplot(gs[:2, :2])\n",
    "calibration_displays = {}\n",
    "for i, (clf, name) in enumerate(clf_list):\n",
    "    clf.fit(X_train, y_train)\n",
    "    display = CalibrationDisplay.from_estimator(\n",
    "        clf,\n",
    "        X_test,\n",
    "        y_test,\n",
    "        n_bins=10,\n",
    "        name=name,\n",
    "        ax=ax_calibration_curve,\n",
    "        color=colors(i),\n",
    "    )\n",
    "    calibration_displays[name] = display\n",
    "\n",
    "ax_calibration_curve.grid()\n",
    "ax_calibration_curve.set_title(\"Calibration plots\")\n",
    "\n",
    "# Add histogram\n",
    "grid_positions = [(2, 0), (2, 1), (3, 0), (3, 1)]\n",
    "for i, (_, name) in enumerate(clf_list):\n",
    "    row, col = grid_positions[i]\n",
    "    ax = fig.add_subplot(gs[row, col])\n",
    "\n",
    "    ax.hist(\n",
    "        calibration_displays[name].y_prob,\n",
    "        range=(0, 1),\n",
    "        bins=10,\n",
    "        label=name,\n",
    "        color=colors(i),\n",
    "    )\n",
    "    ax.set(title=name, xlabel=\"Mean predicted probability\", ylabel=\"Count\")\n",
    "\n",
    "plt.tight_layout()\n",
    "plt.show()\n"
   ]
  },
  {
   "cell_type": "markdown",
   "id": "7d917ef6-4699-47fd-9212-e58088ef39f0",
   "metadata": {},
   "source": [
    "# 4) Save results"
   ]
  },
  {
   "cell_type": "code",
   "execution_count": null,
   "id": "25e9b6a2-5bb4-4403-8d95-59e299da936d",
   "metadata": {},
   "outputs": [],
   "source": [
    "import os\n",
    "from shutil import rmtree\n",
    "from pathlib import Path\n",
    "results_path = Path('results')\n",
    "if not results_path.is_dir():\n",
    "    os.makedirs(results_path)\n",
    "for f in results_path.glob('*'):\n",
    "    if f.is_dir():\n",
    "        rmtree(f)\n",
    "    else:\n",
    "        os.remove(f)\n",
    "from joblib import dump\n",
    "\n",
    "for model, name in clf_list:\n",
    "    dump(model, results_path / '{}.joblib'.format(name.replace(' ','_')))\n",
    "\n",
    "fig.savefig(results_path/'fig.png', bbox_inches='tight', dpi=150)"
   ]
  },
  {
   "cell_type": "markdown",
   "id": "c806abd8-cd6c-4aff-bb30-eaed97a46a37",
   "metadata": {},
   "source": [
    "# 5) Store results to cloud storage"
   ]
  },
  {
   "cell_type": "code",
   "execution_count": null,
   "id": "0bfb4a4a-faad-4085-80c7-306cebafa17c",
   "metadata": {},
   "outputs": [],
   "source": [
    "# Copy results to cloud storage:\n",
    "! gsutil cp -r results gs://${BUCKET}/results\n"
   ]
  }
 ],
 "metadata": {
  "kernelspec": {
   "display_name": "Python 3 (ipykernel)",
   "language": "python",
   "name": "python3"
  },
  "language_info": {
   "codemirror_mode": {
    "name": "ipython",
    "version": 3
   },
   "file_extension": ".py",
   "mimetype": "text/x-python",
   "name": "python",
   "nbconvert_exporter": "python",
   "pygments_lexer": "ipython3",
   "version": "3.9.7"
  }
 },
 "nbformat": 4,
 "nbformat_minor": 5
}
